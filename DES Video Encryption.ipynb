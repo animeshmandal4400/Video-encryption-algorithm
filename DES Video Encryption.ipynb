from Crypto.Cipher import DES
from Crypto.Util.Padding import pad, unpad
import os

def encrypt_file(file_path, key):
    # Create a DES cipher object with the provided key
    cipher = DES.new(key, DES.MODE_ECB)

    # Read the video file
    with open(file_path, 'rb') as file:
        plaintext = file.read()

    # Pad the plaintext to match the DES block size
    padded_plaintext = pad(plaintext, DES.block_size)

    # Encrypt the padded plaintext
    ciphertext = cipher.encrypt(padded_plaintext)

    # Create an encrypted file with a '.enc' extension
    encrypted_file_path = file_path + '.enc'

    # Write the encrypted data to the encrypted file
    with open(encrypted_file_path, 'wb') as encrypted_file:
        encrypted_file.write(ciphertext)

    print(f"Encryption complete. Encrypted file saved as '{encrypted_file_path}'.")

def decrypt_file(file_path, key):
    # Create a DES cipher object with the provided key
    cipher = DES.new(key, DES.MODE_ECB)

    # Read the encrypted file
    with open(file_path, 'rb') as encrypted_file:
        ciphertext = encrypted_file.read()

    # Decrypt the ciphertext
    decrypted_data = cipher.decrypt(ciphertext)

    # Unpad the decrypted data
    plaintext = unpad(decrypted_data, DES.block_size)

    # Create a decrypted file by removing the '.enc' extension
    decrypted_file_path = os.path.splitext(file_path)[0]

    # Write the decrypted data to the decrypted file
    with open(decrypted_file_path, 'wb') as decrypted_file:
        decrypted_file.write(plaintext)

    print(f"Decryption complete. Decrypted file saved as '{decrypted_file_path}'.")

# Example usage
key = b'mysecretkey'  # 8 bytes key for DES

# Encrypt a video file
video_file_path = 'path/to/video.mp4'
encrypt_file(video_file_path, key)

# Decrypt the encrypted video file
encrypted_file_path = 'path/to/video.mp4.enc'
decrypt_file(encrypted_file_path, key)

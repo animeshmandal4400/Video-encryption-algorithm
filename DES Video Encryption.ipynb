{
  "nbformat": 4,
  "nbformat_minor": 0,
  "metadata": {
    "colab": {
      "provenance": [],
      "toc_visible": true
    },
    "kernelspec": {
      "name": "python3",
      "display_name": "Python 3"
    },
    "language_info": {
      "name": "python"
    }
  },
  "cells": [
    {
      "cell_type": "code",
      "execution_count": null,
      "metadata": {
        "id": "8JgiJIi7RiUb"
      },
      "outputs": [],
      "source": [
        "from Crypto.Cipher import AES\n",
        "\n",
        "def decrypt_video(input_file, output_file, key):\n",
        "    # Define the block size for AES (in bytes)\n",
        "    BLOCK_SIZE = 16\n",
        "\n",
        "    # Open the input encrypted video file for reading\n",
        "    with open(input_file, 'rb') as file_in:\n",
        "        # Read the initialization vector from the input file\n",
        "        iv = file_in.read(BLOCK_SIZE)\n",
        "\n",
        "        # Create the AES cipher object with the provided key, cipher mode, and IV\n",
        "        cipher = AES.new(key, AES.MODE_CBC, iv)\n",
        "\n",
        "        # Open the output file for writing the decrypted data\n",
        "        with open(output_file, 'wb') as file_out:\n",
        "            # Read the encrypted data in blocks and decrypt each block\n",
        "            while True:\n",
        "                # Read a block of encrypted data from the input file\n",
        "                encrypted_block = file_in.read(BLOCK_SIZE)\n",
        "\n",
        "                # If the block is empty, we've reached the end of the file\n",
        "                if len(encrypted_block) == 0:\n",
        "                    break\n",
        "\n",
        "                # Decrypt the block and write it to the output file\n",
        "                decrypted_block = cipher.decrypt(encrypted_block)\n",
        "                file_out.write(decrypted_block)\n",
        "\n",
        "    print(\"Decryption completed successfully.\")\n",
        "\n",
        "# Example usage\n",
        "input_file = 'encrypted_video.bin'\n",
        "output_file = 'decrypted_video.mp4'\n",
        "key = b'ThisIsASecretKey'  # Replace with the same key used for encryption\n",
        "\n",
        "decrypt_video(input_file, output_file, key)"
      ]
    }
  ]
}
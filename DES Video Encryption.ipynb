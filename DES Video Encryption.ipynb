{
 "cells": [
  {
   "cell_type": "code",
   "execution_count": null,
   "id": "0481b140",
   "metadata": {},
   "outputs": [],
   "source": [
    "pip install pycryptodome"
   ]
  },
  {
   "cell_type": "code",
   "execution_count": null,
   "id": "5c702ec8",
   "metadata": {},
   "outputs": [],
   "source": [
    "from Crypto.Cipher import DES\n",
    "from Crypto.Util.Padding import pad, unpad\n",
    "import os\n",
    "\n",
    "def encrypt_file(file_path, key):\n",
    "   \n",
    "    cipher = DES.new(key, DES.MODE_ECB)\n",
    "\n",
    "    with open(file_path, 'rb') as file:\n",
    "        plaintext = file.read()\n",
    "\n",
    "    padded_plaintext = pad(plaintext, DES.block_size)\n",
    "\n",
    "    ciphertext = cipher.encrypt(padded_plaintext)\n",
    "\n",
    "    encrypted_file_path = file_path + '.enc'\n",
    "\n",
    "    with open(encrypted_file_path, 'wb') as encrypted_file:\n",
    "        encrypted_file.write(ciphertext)\n",
    "\n",
    "    print(f\"Encryption complete. Encrypted file saved as '{encrypted_file_path}'.\")\n",
    "\n",
    "def decrypt_file(file_path, key):\n",
    "\n",
    "    cipher = DES.new(key, DES.MODE_ECB)\n",
    "\n",
    "\n",
    "    with open(file_path, 'rb') as encrypted_file:\n",
    "        ciphertext = encrypted_file.read()\n",
    "\n",
    "\n",
    "    decrypted_data = cipher.decrypt(ciphertext)\n",
    "\n",
    "    plaintext = unpad(decrypted_data, DES.block_size)\n",
    "\n",
    "\n",
    "    decrypted_file_path = os.path.splitext(file_path)[0]\n",
    "\n",
    "    with open(decrypted_file_path, 'wb') as decrypted_file:\n",
    "        decrypted_file.write(plaintext)\n",
    "\n",
    "    print(f\"Decryption complete. Decrypted file saved as '{decrypted_file_path}'.\")\n",
    "    \n",
    "key = b'mysecretkey'  # 8 bytes key for DES\n",
    "\n",
    "video_file_path = 'path/to/video.mp4'\n",
    "encrypt_file(video_file_path, key)\n",
    "\n",
    "encrypted_file_path = 'path/to/video.mp4.enc'\n",
    "decrypt_file(encrypted_file_path, key)"
   ]
  },
  {
   "cell_type": "code",
   "execution_count": null,
   "id": "aeb5c5af",
   "metadata": {},
   "outputs": [],
   "source": []
  }
 ],
 "metadata": {
  "kernelspec": {
   "display_name": "Python 3",
   "language": "python",
   "name": "python3"
  },
  "language_info": {
   "codemirror_mode": {
    "name": "ipython",
    "version": 3
   },
   "file_extension": ".py",
   "mimetype": "text/x-python",
   "name": "python",
   "nbconvert_exporter": "python",
   "pygments_lexer": "ipython3",
   "version": "3.10.11"
  },
  "vscode": {
   "interpreter": {
    "hash": "ece947053ee3e62244b893ec085a25171f953d5616cc8a92aa2500f25e0c9207"
   }
  }
 },
 "nbformat": 4,
 "nbformat_minor": 5
}

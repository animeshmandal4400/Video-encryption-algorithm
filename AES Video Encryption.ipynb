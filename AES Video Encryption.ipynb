{
 "cells": [
  {
   "cell_type": "code",
   "execution_count": 1,
   "id": "0481b140",
   "metadata": {},
   "outputs": [
    {
     "name": "stdout",
     "output_type": "stream",
     "text": [
      "Requirement already satisfied: pycryptodome in c:\\users\\ishan\\anaconda3\\lib\\site-packages (3.17)\n",
      "Note: you may need to restart the kernel to use updated packages.\n"
     ]
    }
   ],
   "source": [
    "pip install pycryptodome"
   ]
  },
  {
   "cell_type": "code",
   "execution_count": 2,
   "id": "2bfaaf65",
   "metadata": {},
   "outputs": [
    {
     "name": "stdout",
     "output_type": "stream",
     "text": [
      "Encryption completed successfully.\n"
     ]
    }
   ],
   "source": [
    "from Crypto.Cipher import AES\n",
    "import os\n",
    "\n",
    "def encrypt_video(input_file, output_file, key):\n",
    "    # Define the block size for AES (in bytes)\n",
    "    BLOCK_SIZE = 16\n",
    "\n",
    "    # Generate a 16-byte initialization vector\n",
    "    iv = os.urandom(BLOCK_SIZE)\n",
    "\n",
    "    # Create the AES cipher object with the provided key and cipher mode\n",
    "    cipher = AES.new(key, AES.MODE_CBC, iv)\n",
    "\n",
    "    # Open the input video file for reading\n",
    "    with open(input_file, 'rb') as file_in:\n",
    "        # Create a new output file for writing the encrypted data\n",
    "        with open(output_file, 'wb') as file_out:\n",
    "            # Write the IV to the output file (required for decryption)\n",
    "            file_out.write(iv)\n",
    "\n",
    "            # Read the input file in blocks and encrypt each block\n",
    "            while True:\n",
    "                # Read a block of data from the input file\n",
    "                block = file_in.read(BLOCK_SIZE)\n",
    "\n",
    "                # If the block is empty, we've reached the end of the file\n",
    "                if len(block) == 0:\n",
    "                    break\n",
    "\n",
    "                # If the block size is less than the required size, pad it\n",
    "                if len(block) % BLOCK_SIZE != 0:\n",
    "                    block += b' ' * (BLOCK_SIZE - (len(block) % BLOCK_SIZE))\n",
    "\n",
    "                # Encrypt the block and write it to the output file\n",
    "                encrypted_block = cipher.encrypt(block)\n",
    "                file_out.write(encrypted_block)\n",
    "\n",
    "    print(\"Encryption completed successfully.\")\n",
    "\n",
    "# Example usage\n",
    "input_file = 'video.mp4'\n",
    "output_file = 'encrypted_video.bin'\n",
    "key = b'ThisIsASecretKey'  # Replace with your own secure key\n",
    "\n",
    "encrypt_video(input_file, output_file, key)"
   ]
  },
  {
   "cell_type": "code",
   "execution_count": 3,
   "id": "a235ad9d",
   "metadata": {},
   "outputs": [
    {
     "name": "stdout",
     "output_type": "stream",
     "text": [
      "Decryption completed successfully.\n"
     ]
    }
   ],
   "source": [
    "from Crypto.Cipher import AES\n",
    "\n",
    "def decrypt_video(input_file, output_file, key):\n",
    "    # Define the block size for AES (in bytes)\n",
    "    BLOCK_SIZE = 16\n",
    "\n",
    "    # Open the input encrypted video file for reading\n",
    "    with open(input_file, 'rb') as file_in:\n",
    "        # Read the initialization vector from the input file\n",
    "        iv = file_in.read(BLOCK_SIZE)\n",
    "\n",
    "        # Create the AES cipher object with the provided key, cipher mode, and IV\n",
    "        cipher = AES.new(key, AES.MODE_CBC, iv)\n",
    "\n",
    "        # Open the output file for writing the decrypted data\n",
    "        with open(output_file, 'wb') as file_out:\n",
    "            # Read the encrypted data in blocks and decrypt each block\n",
    "            while True:\n",
    "                # Read a block of encrypted data from the input file\n",
    "                encrypted_block = file_in.read(BLOCK_SIZE)\n",
    "\n",
    "                # If the block is empty, we've reached the end of the file\n",
    "                if len(encrypted_block) == 0:\n",
    "                    break\n",
    "\n",
    "                # Decrypt the block and write it to the output file\n",
    "                decrypted_block = cipher.decrypt(encrypted_block)\n",
    "                file_out.write(decrypted_block)\n",
    "\n",
    "    print(\"Decryption completed successfully.\")\n",
    "\n",
    "# Example usage\n",
    "input_file = 'encrypted_video.bin'\n",
    "output_file = 'decrypted_video.mp4'\n",
    "key = b'ThisIsASecretKey'  # Replace with the same key used for encryption\n",
    "\n",
    "decrypt_video(input_file, output_file, key)"
   ]
  },
  {
   "cell_type": "code",
   "execution_count": null,
   "id": "5c702ec8",
   "metadata": {},
   "outputs": [],
   "source": []
  },
  {
   "cell_type": "code",
   "execution_count": null,
   "id": "aeb5c5af",
   "metadata": {},
   "outputs": [],
   "source": []
  }
 ],
 "metadata": {
  "kernelspec": {
   "display_name": "Python 3 (ipykernel)",
   "language": "python",
   "name": "python3"
  },
  "language_info": {
   "codemirror_mode": {
    "name": "ipython",
    "version": 3
   },
   "file_extension": ".py",
   "mimetype": "text/x-python",
   "name": "python",
   "nbconvert_exporter": "python",
   "pygments_lexer": "ipython3",
   "version": "3.9.13"
  }
 },
 "nbformat": 4,
 "nbformat_minor": 5
}
